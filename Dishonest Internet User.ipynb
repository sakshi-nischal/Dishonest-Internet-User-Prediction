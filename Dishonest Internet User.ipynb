{
 "cells": [
  {
   "cell_type": "markdown",
   "metadata": {},
   "source": [
    "# Dishonest Internet User Classification"
   ]
  },
  {
   "cell_type": "markdown",
   "metadata": {},
   "source": [
    "## Import Important Libraries"
   ]
  },
  {
   "cell_type": "code",
   "execution_count": 1,
   "metadata": {},
   "outputs": [],
   "source": [
    "import numpy as np\n",
    "import pandas as pd\n",
    "import matplotlib.pyplot as plt\n",
    "import seaborn as sns"
   ]
  },
  {
   "cell_type": "code",
   "execution_count": 2,
   "metadata": {},
   "outputs": [
    {
     "name": "stdout",
     "output_type": "stream",
     "text": [
      "   ctrust  cuntrust  last context          score\n",
      "0       4         1     4   sport  untrustworthy\n",
      "1       4         1     4   sport  untrustworthy\n",
      "2       1         4     4   sport    trustworthy\n",
      "3       2         1     4   sport    trustworthy\n",
      "4       3         1     4   sport    trustworthy\n"
     ]
    }
   ],
   "source": [
    "#LOADING DATASET AND PRINTING FIRST 5 ROWS\n",
    "Data=pd.read_csv('C:/Users/saksh/Downloads/main.csv')\n",
    "print(Data.head())"
   ]
  },
  {
   "cell_type": "code",
   "execution_count": 3,
   "metadata": {},
   "outputs": [
    {
     "name": "stdout",
     "output_type": "stream",
     "text": [
      "(322, 5)\n"
     ]
    }
   ],
   "source": [
    "#NUMBER OF COLUMNS AND ROWS IN THE DATASET\n",
    "print(Data.shape)"
   ]
  },
  {
   "cell_type": "code",
   "execution_count": 4,
   "metadata": {},
   "outputs": [
    {
     "name": "stdout",
     "output_type": "stream",
     "text": [
      "<class 'pandas.core.frame.DataFrame'>\n",
      "RangeIndex: 322 entries, 0 to 321\n",
      "Data columns (total 5 columns):\n",
      " #   Column    Non-Null Count  Dtype \n",
      "---  ------    --------------  ----- \n",
      " 0   ctrust    322 non-null    int64 \n",
      " 1   cuntrust  322 non-null    int64 \n",
      " 2   last      322 non-null    int64 \n",
      " 3   context   322 non-null    object\n",
      " 4   score     322 non-null    object\n",
      "dtypes: int64(3), object(2)\n",
      "memory usage: 12.7+ KB\n",
      "None\n"
     ]
    }
   ],
   "source": [
    "#INFORMATION REGARDING DATASET\n",
    "print(Data.info())"
   ]
  },
  {
   "cell_type": "code",
   "execution_count": 5,
   "metadata": {
    "scrolled": true
   },
   "outputs": [
    {
     "name": "stdout",
     "output_type": "stream",
     "text": [
      "           ctrust    cuntrust        last\n",
      "count  322.000000  322.000000  322.000000\n",
      "mean     2.195652    1.527950    2.366460\n",
      "std      1.273592    1.105422    1.347384\n",
      "min      1.000000    1.000000    1.000000\n",
      "25%      1.000000    1.000000    1.000000\n",
      "50%      2.000000    1.000000    2.000000\n",
      "75%      4.000000    1.000000    4.000000\n",
      "max      4.000000    5.000000    4.000000\n"
     ]
    }
   ],
   "source": [
    "#STATISTICAL INFORMATION OF DATASET\n",
    "print(Data.describe())"
   ]
  },
  {
   "cell_type": "code",
   "execution_count": 6,
   "metadata": {},
   "outputs": [
    {
     "name": "stdout",
     "output_type": "stream",
     "text": [
      "ctrust      0\n",
      "cuntrust    0\n",
      "last        0\n",
      "context     0\n",
      "score       0\n",
      "dtype: int64\n"
     ]
    }
   ],
   "source": [
    "#TOTAL NUMBER OF NULL VALUES IN EACH COLUMN OF DATASET\n",
    "print(Data.isna().sum())"
   ]
  },
  {
   "cell_type": "code",
   "execution_count": 7,
   "metadata": {},
   "outputs": [
    {
     "name": "stdout",
     "output_type": "stream",
     "text": [
      "ctrust [4 1 2 3]\n",
      "cuntrust [1 4 3 5]\n",
      "last [4 1 3 2]\n",
      "context ['sport' 'game' 'ECommerce' 'holiday']\n",
      "score ['untrustworthy' 'trustworthy']\n"
     ]
    }
   ],
   "source": [
    "print(\"ctrust\",Data['ctrust'].unique())\n",
    "print(\"cuntrust\",Data['cuntrust'].unique())\n",
    "print(\"last\",Data['last'].unique())\n",
    "print(\"context\",Data['context'].unique())\n",
    "print(\"score\",Data['score'].unique())"
   ]
  },
  {
   "cell_type": "markdown",
   "metadata": {},
   "source": [
    "## Data Visualizations"
   ]
  },
  {
   "cell_type": "code",
   "execution_count": 8,
   "metadata": {},
   "outputs": [
    {
     "data": {
      "text/plain": [
       "<AxesSubplot:xlabel='score', ylabel='count'>"
      ]
     },
     "execution_count": 8,
     "metadata": {},
     "output_type": "execute_result"
    },
    {
     "data": {
      "image/png": "[encoded data removed]",
      "text/plain": [
       "<Figure size 432x288 with 1 Axes>"
      ]
     },
     "metadata": {
      "needs_background": "light"
     },
     "output_type": "display_data"
    }
   ],
   "source": [
    "sns.countplot(x='score',data=Data, palette=\"ch:.25\")"
   ]
  },
  {
   "cell_type": "code",
   "execution_count": 9,
   "metadata": {},
   "outputs": [
    {
     "data": {
      "text/plain": [
       "<AxesSubplot:xlabel='score', ylabel='count'>"
      ]
     },
     "execution_count": 9,
     "metadata": {},
     "output_type": "execute_result"
    },
    {
     "data": {
      "image/png": "[encoded data removed]",
      "text/plain": [
       "<Figure size 432x288 with 1 Axes>"
      ]
     },
     "metadata": {
      "needs_background": "light"
     },
     "output_type": "display_data"
    }
   ],
   "source": [
    "sns.countplot(x='score', hue='context',data=Data,palette='rainbow_r')"
   ]
  },
  {
   "cell_type": "code",
   "execution_count": 10,
   "metadata": {},
   "outputs": [
    {
     "data": {
      "text/plain": [
       "<seaborn.axisgrid.PairGrid at 0x25797f92610>"
      ]
     },
     "execution_count": 10,
     "metadata": {},
     "output_type": "execute_result"
    },
    {
     "data": {
      "image/png": "[encoded data removed]",
      "text/plain": [
       "<Figure size 646.625x540 with 12 Axes>"
      ]
     },
     "metadata": {
      "needs_background": "light"
     },
     "output_type": "display_data"
    }
   ],
   "source": [
    "sns.pairplot(Data,hue=\"score\")"
   ]
  },
  {
   "cell_type": "markdown",
   "metadata": {},
   "source": [
    "## Data Preprocessing"
   ]
  },
  {
   "cell_type": "markdown",
   "metadata": {},
   "source": [
    "### Converting Categorical Data Into Numeric Data"
   ]
  },
  {
   "cell_type": "code",
   "execution_count": 11,
   "metadata": {},
   "outputs": [
    {
     "name": "stdout",
     "output_type": "stream",
     "text": [
      "Index(['context', 'score'], dtype='object')\n"
     ]
    }
   ],
   "source": [
    "#SPECIFYING CATEGORICAL DATA\n",
    "cat_data=Data.select_dtypes(include=['object'])\n",
    "print(cat_data.columns)"
   ]
  },
  {
   "cell_type": "code",
   "execution_count": 12,
   "metadata": {},
   "outputs": [
    {
     "name": "stdout",
     "output_type": "stream",
     "text": [
      "   ctrust  cuntrust  last  context  score\n",
      "0       4         1     4        0      0\n",
      "1       4         1     4        0      0\n",
      "2       1         4     4        0      1\n",
      "3       2         1     4        0      1\n",
      "4       3         1     4        0      1\n"
     ]
    }
   ],
   "source": [
    "#MAPPING CATEGORICAL VALUES INTO INTEGRAL VALUES\n",
    "Data['score'].replace({'untrustworthy':0,'trustworthy':1}, inplace=True)\n",
    "Data['context'].replace({'sport':0,'game':1,'ECommerce':2,'holiday':3}, inplace=True)\n",
    "print(Data.head())"
   ]
  },
  {
   "cell_type": "markdown",
   "metadata": {},
   "source": [
    "### Feature Scaling"
   ]
  },
  {
   "cell_type": "code",
   "execution_count": 13,
   "metadata": {},
   "outputs": [
    {
     "name": "stdout",
     "output_type": "stream",
     "text": [
      "       ctrust  cuntrust      last  context\n",
      "0    1.000000      0.00  1.000000      0.0\n",
      "1    1.000000      0.00  1.000000      0.0\n",
      "2    0.000000      0.75  1.000000      0.0\n",
      "3    0.333333      0.00  1.000000      0.0\n",
      "4    0.666667      0.00  1.000000      0.0\n",
      "..        ...       ...       ...      ...\n",
      "317  0.333333      0.00  0.333333      1.0\n",
      "318  0.000000      0.00  0.000000      1.0\n",
      "319  0.000000      0.00  0.000000      1.0\n",
      "320  0.000000      0.00  0.000000      1.0\n",
      "321  0.333333      0.00  0.333333      1.0\n",
      "\n",
      "[322 rows x 4 columns]\n"
     ]
    }
   ],
   "source": [
    "#FEATURE SCALING-NORMALIZATION\n",
    "y=Data['score'].values\n",
    "data_x=Data.drop(['score'],axis=1)\n",
    "x=(data_x-np.min(data_x))/(np.max(data_x)-np.min(data_x))\n",
    "print(x)"
   ]
  },
  {
   "cell_type": "markdown",
   "metadata": {},
   "source": [
    "### Train Test Split"
   ]
  },
  {
   "cell_type": "code",
   "execution_count": 14,
   "metadata": {},
   "outputs": [],
   "source": [
    "#SPLITTING DATA INTO TRAINING AND TESTING DATASET\n",
    "from sklearn.model_selection import train_test_split\n",
    "x_train,x_test,y_train,y_test=train_test_split(x,y,test_size=0.2)"
   ]
  },
  {
   "cell_type": "markdown",
   "metadata": {},
   "source": [
    "### Import Classifiers"
   ]
  },
  {
   "cell_type": "code",
   "execution_count": 15,
   "metadata": {},
   "outputs": [],
   "source": [
    "from sklearn.ensemble import RandomForestClassifier\n",
    "from sklearn.linear_model import LogisticRegression\n",
    "from sklearn.svm import SVC\n",
    "from sklearn.naive_bayes import GaussianNB\n",
    "\n",
    "from sklearn.metrics import accuracy_score\n",
    "from sklearn.metrics import classification_report\n",
    "from sklearn.metrics import confusion_matrix\n"
   ]
  },
  {
   "cell_type": "markdown",
   "metadata": {},
   "source": [
    "### Random Forest Classifier"
   ]
  },
  {
   "cell_type": "code",
   "execution_count": 16,
   "metadata": {},
   "outputs": [
    {
     "name": "stdout",
     "output_type": "stream",
     "text": [
      "0.9538461538461539\n"
     ]
    }
   ],
   "source": [
    "rf=RandomForestClassifier(n_estimators=10,max_depth=3)\n",
    "rf.fit(x_train,y_train)\n",
    "\n",
    "pred_y_rf=rf.predict(x_test)\n",
    "\n",
    "accuracy_rf=accuracy_score(y_test,pred_y_rf)\n",
    "print(accuracy_rf)"
   ]
  },
  {
   "cell_type": "code",
   "execution_count": 17,
   "metadata": {},
   "outputs": [
    {
     "name": "stdout",
     "output_type": "stream",
     "text": [
      "[[14  3]\n",
      " [ 0 48]]\n"
     ]
    }
   ],
   "source": [
    "#CONFUSION MATRIX\n",
    "cm_rf=confusion_matrix(y_test,pred_y_rf)\n",
    "print(cm_rf)"
   ]
  },
  {
   "cell_type": "code",
   "execution_count": 18,
   "metadata": {},
   "outputs": [
    {
     "name": "stdout",
     "output_type": "stream",
     "text": [
      "              precision    recall  f1-score   support\n",
      "\n",
      "           0       1.00      0.82      0.90        17\n",
      "           1       0.94      1.00      0.97        48\n",
      "\n",
      "    accuracy                           0.95        65\n",
      "   macro avg       0.97      0.91      0.94        65\n",
      "weighted avg       0.96      0.95      0.95        65\n",
      "\n"
     ]
    }
   ],
   "source": [
    "#CLASSIFICATION REPORT\n",
    "print(classification_report(y_test,pred_y_rf))"
   ]
  },
  {
   "cell_type": "markdown",
   "metadata": {},
   "source": [
    "### Logistic Regression"
   ]
  },
  {
   "cell_type": "code",
   "execution_count": 19,
   "metadata": {},
   "outputs": [
    {
     "name": "stdout",
     "output_type": "stream",
     "text": [
      "0.9230769230769231\n"
     ]
    }
   ],
   "source": [
    "lr=LogisticRegression()\n",
    "lr.fit(x_train,y_train)\n",
    "\n",
    "pred_y_lr=lr.predict(x_test)\n",
    "\n",
    "accuracy_lr=accuracy_score(y_test,pred_y_lr)\n",
    "print(accuracy_lr)"
   ]
  },
  {
   "cell_type": "code",
   "execution_count": 20,
   "metadata": {},
   "outputs": [
    {
     "name": "stdout",
     "output_type": "stream",
     "text": [
      "[[12  5]\n",
      " [ 0 48]]\n"
     ]
    }
   ],
   "source": [
    "#CONFUSION MARIX\n",
    "cm_lr=confusion_matrix(y_test,pred_y_lr)\n",
    "print(cm_lr)"
   ]
  },
  {
   "cell_type": "code",
   "execution_count": 21,
   "metadata": {},
   "outputs": [
    {
     "name": "stdout",
     "output_type": "stream",
     "text": [
      "              precision    recall  f1-score   support\n",
      "\n",
      "           0       1.00      0.71      0.83        17\n",
      "           1       0.91      1.00      0.95        48\n",
      "\n",
      "    accuracy                           0.92        65\n",
      "   macro avg       0.95      0.85      0.89        65\n",
      "weighted avg       0.93      0.92      0.92        65\n",
      "\n"
     ]
    }
   ],
   "source": [
    "#CLASSIFICATION REPORT\n",
    "print(classification_report(y_test,pred_y_lr))"
   ]
  },
  {
   "cell_type": "markdown",
   "metadata": {},
   "source": [
    "### Support Vector Classifier"
   ]
  },
  {
   "cell_type": "code",
   "execution_count": 22,
   "metadata": {},
   "outputs": [
    {
     "name": "stdout",
     "output_type": "stream",
     "text": [
      "0.8769230769230769\n"
     ]
    }
   ],
   "source": [
    "svc=SVC(kernel='linear')\n",
    "svc.fit(x_train,y_train)\n",
    "\n",
    "pred_y_svc=svc.predict(x_test)\n",
    "\n",
    "accuracy_svc=accuracy_score(y_test,pred_y_svc)\n",
    "print(accuracy_svc)"
   ]
  },
  {
   "cell_type": "code",
   "execution_count": 23,
   "metadata": {},
   "outputs": [
    {
     "name": "stdout",
     "output_type": "stream",
     "text": [
      "[[12  5]\n",
      " [ 3 45]]\n"
     ]
    }
   ],
   "source": [
    "#CONFUSION MATRIX\n",
    "cm_svc=confusion_matrix(y_test,pred_y_svc)\n",
    "print(cm_svc)"
   ]
  },
  {
   "cell_type": "code",
   "execution_count": 24,
   "metadata": {},
   "outputs": [
    {
     "name": "stdout",
     "output_type": "stream",
     "text": [
      "              precision    recall  f1-score   support\n",
      "\n",
      "           0       0.80      0.71      0.75        17\n",
      "           1       0.90      0.94      0.92        48\n",
      "\n",
      "    accuracy                           0.88        65\n",
      "   macro avg       0.85      0.82      0.83        65\n",
      "weighted avg       0.87      0.88      0.87        65\n",
      "\n"
     ]
    }
   ],
   "source": [
    "#CLASSIFICATION REPORT\n",
    "print(classification_report(y_test,pred_y_svc))"
   ]
  },
  {
   "cell_type": "markdown",
   "metadata": {},
   "source": [
    "### Naive Bayes Classifier"
   ]
  },
  {
   "cell_type": "code",
   "execution_count": 25,
   "metadata": {},
   "outputs": [
    {
     "name": "stdout",
     "output_type": "stream",
     "text": [
      "0.6923076923076923\n"
     ]
    }
   ],
   "source": [
    "gnb=GaussianNB()\n",
    "gnb.fit(x_train,y_train)\n",
    "\n",
    "pred_y_gnb=gnb.predict(x_test)\n",
    "\n",
    "accuracy_gnb=accuracy_score(y_test,pred_y_gnb)\n",
    "print(accuracy_gnb)\n"
   ]
  },
  {
   "cell_type": "code",
   "execution_count": 26,
   "metadata": {},
   "outputs": [
    {
     "name": "stdout",
     "output_type": "stream",
     "text": [
      "[[ 5 12]\n",
      " [ 8 40]]\n"
     ]
    }
   ],
   "source": [
    "#CONFUSION MATRIX\n",
    "cm_gnb=confusion_matrix(y_test,pred_y_gnb)\n",
    "print(cm_gnb)"
   ]
  },
  {
   "cell_type": "code",
   "execution_count": 27,
   "metadata": {},
   "outputs": [
    {
     "name": "stdout",
     "output_type": "stream",
     "text": [
      "              precision    recall  f1-score   support\n",
      "\n",
      "           0       0.38      0.29      0.33        17\n",
      "           1       0.77      0.83      0.80        48\n",
      "\n",
      "    accuracy                           0.69        65\n",
      "   macro avg       0.58      0.56      0.57        65\n",
      "weighted avg       0.67      0.69      0.68        65\n",
      "\n"
     ]
    }
   ],
   "source": [
    "#CLASSIFICATION REPORT\n",
    "print(classification_report(y_test,pred_y_gnb))"
   ]
  },
  {
   "cell_type": "code",
   "execution_count": 28,
   "metadata": {},
   "outputs": [
    {
     "data": {
      "text/html": [
       "<div>\n",
       "<style scoped>\n",
       "    .dataframe tbody tr th:only-of-type {\n",
       "        vertical-align: middle;\n",
       "    }\n",
       "\n",
       "    .dataframe tbody tr th {\n",
       "        vertical-align: top;\n",
       "    }\n",
       "\n",
       "    .dataframe thead th {\n",
       "        text-align: right;\n",
       "    }\n",
       "</style>\n",
       "<table border=\"1\" class=\"dataframe\">\n",
       "  <thead>\n",
       "    <tr style=\"text-align: right;\">\n",
       "      <th></th>\n",
       "      <th>Classifiers</th>\n",
       "      <th>Accuracy</th>\n",
       "    </tr>\n",
       "  </thead>\n",
       "  <tbody>\n",
       "    <tr>\n",
       "      <th>0</th>\n",
       "      <td>Random Forest</td>\n",
       "      <td>0.953846</td>\n",
       "    </tr>\n",
       "    <tr>\n",
       "      <th>1</th>\n",
       "      <td>Logistic Regression</td>\n",
       "      <td>0.923077</td>\n",
       "    </tr>\n",
       "    <tr>\n",
       "      <th>2</th>\n",
       "      <td>Support Vector Machine</td>\n",
       "      <td>0.876923</td>\n",
       "    </tr>\n",
       "    <tr>\n",
       "      <th>3</th>\n",
       "      <td>Naive Bayes Classifier</td>\n",
       "      <td>0.692308</td>\n",
       "    </tr>\n",
       "  </tbody>\n",
       "</table>\n",
       "</div>"
      ],
      "text/plain": [
       "              Classifiers  Accuracy\n",
       "0           Random Forest  0.953846\n",
       "1     Logistic Regression  0.923077\n",
       "2  Support Vector Machine  0.876923\n",
       "3  Naive Bayes Classifier  0.692308"
      ]
     },
     "metadata": {},
     "output_type": "display_data"
    }
   ],
   "source": [
    "#DISPLAY TESTING ACCURACIES FOR ALL CLASSIFIERS\n",
    "classifiers=[[\"Random Forest\",accuracy_rf],[\"Logistic Regression\",accuracy_lr],[\"Support Vector Machine\",accuracy_svc],[\"Naive Bayes Classifier\",accuracy_gnb]]\n",
    "df=pd.DataFrame(classifiers,columns=[\"Classifiers\",\"Accuracy\"])\n",
    "display(df)"
   ]
  },
  {
   "cell_type": "code",
   "execution_count": null,
   "metadata": {},
   "outputs": [],
   "source": []
  }
 ],
 "metadata": {
  "kernelspec": {
   "display_name": "Python 3",
   "language": "python",
   "name": "python3"
  },
  "language_info": {
   "codemirror_mode": {
    "name": "ipython",
    "version": 3
   },
   "file_extension": ".py",
   "mimetype": "text/x-python",
   "name": "python",
   "nbconvert_exporter": "python",
   "pygments_lexer": "ipython3",
   "version": "3.8.5"
  }
 },
 "nbformat": 4,
 "nbformat_minor": 4
}
